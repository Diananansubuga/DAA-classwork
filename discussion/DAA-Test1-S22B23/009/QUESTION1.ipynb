{
 "cells": [
  {
   "cell_type": "code",
   "execution_count": 5,
   "metadata": {},
   "outputs": [
    {
     "name": "stdout",
     "output_type": "stream",
     "text": [
      "Original List:  [1, 4, 3, 6, 5, 9, 11, 24, 7, 8]\n",
      "\n",
      "\n",
      "List after sorting using Insertion Sort Algorithm: [1, 3, 4, 5, 6, 7, 8, 9, 11, 24]\n",
      "The list is sorted.\n"
     ]
    }
   ],
   "source": [
    "# SWAP FUNCTION\n",
    "def swap(A,i,j):\n",
    "    temp = A[i]\n",
    "    A[i] = A[j]\n",
    "    A[j] = temp\n",
    "\n",
    "\n",
    "\n",
    "def insertionSort(A,n):\n",
    "    for pos in range(1,n):\n",
    "        nextpos=pos\n",
    "        while nextpos>0 and A[nextpos]<A[nextpos-1]:\n",
    "            swap(A,nextpos,nextpos-1)\n",
    "            nextpos=nextpos-1\n",
    "\n",
    "    return A\n",
    "# verify if the list was sorted\n",
    "def verifySorted(A,n):\n",
    "  for i in range(1,n):\n",
    "    if A[i] < A[i-1]:\n",
    "      return False\n",
    "  return True\n",
    "\n",
    "\n",
    "# list to work with\n",
    "A=[1,4,3,6,5,9,11,24,7,8]\n",
    "print(\"Original List: \",A)\n",
    "\n",
    "# call the insertion sort function.\n",
    "list=insertionSort(A,len(A))\n",
    "print(\"\\n\\nList after sorting using Insertion Sort Algorithm:\",A)\n",
    "\n",
    "# vrify if the list is sorted or not\n",
    "isSorted = verifySorted(A, len(A))\n",
    "if isSorted:\n",
    "  print(\"The list is sorted.\")\n",
    "else:\n",
    "  print(\"The list is not sorted.\")\n",
    "\n",
    "\n"
   ]
  },
  {
   "cell_type": "markdown",
   "metadata": {},
   "source": [
    "The insertion sort algorithm works by repeatedly inserting an element into its correct position in a sorted list. The algorithm starts by comparing the first two elements in the list and swapping them if necessary. Then, the algorithm compares the third element to the elements in the sorted portion of the list and inserts it into its correct position. This process continues until all of the elements in the list have been inserted into their correct positions.<br>\n",
    "\n",
    "**case secenarios**<br>\n",
    "The best-case time complexity of insertion sort is O(n), where n is the number of elements in the list. This occurs when the list is already sorted. In this case, the algorithm only needs to iterate over the list once and no swaps are necessary.<br>\n",
    "\n",
    "The average-case time complexity of insertion sort is O(n^2). This occurs when the list is randomly shuffled. In this case, the algorithm needs to iterate over the list n times and perform an average of n/2 swaps per iteration.<br>\n",
    "\n",
    "The worst-case time complexity of insertion sort is O(n^2). This occurs when the list is sorted in reverse order. In this case, the algorithm needs to iterate over the list n times and perform n/2 swaps per iteration.<br>"
   ]
  }
 ],
 "metadata": {
  "kernelspec": {
   "display_name": "Python 3",
   "language": "python",
   "name": "python3"
  },
  "language_info": {
   "codemirror_mode": {
    "name": "ipython",
    "version": 3
   },
   "file_extension": ".py",
   "mimetype": "text/x-python",
   "name": "python",
   "nbconvert_exporter": "python",
   "pygments_lexer": "ipython3",
   "version": "3.11.4"
  }
 },
 "nbformat": 4,
 "nbformat_minor": 2
}
