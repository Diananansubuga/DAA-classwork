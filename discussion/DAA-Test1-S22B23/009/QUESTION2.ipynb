{
 "cells": [
  {
   "cell_type": "code",
   "execution_count": 4,
   "metadata": {},
   "outputs": [
    {
     "name": "stdout",
     "output_type": "stream",
     "text": [
      "None\n",
      "1\n",
      "5\n"
     ]
    }
   ],
   "source": [
    "# Actual code\n",
    "def find_max(array):\n",
    "    # Check if the array is empty\n",
    "    if len(array) == 0:\n",
    "        return None  # Return None for empty arrays\n",
    "    \n",
    "    max_value = array[0]\n",
    "    # Iterate through the elements of the array\n",
    "    for element in array:\n",
    "        if element > max_value:\n",
    "            max_value = element\n",
    "    return max_value\n",
    "\n",
    "# Test with an empty array\n",
    "array = []\n",
    "max_value = find_max(array)\n",
    "print(max_value)\n",
    "\n",
    "# Test with an array with a single element\n",
    "array = [1]\n",
    "max_value = find_max(array)\n",
    "print(max_value)\n",
    "\n",
    "# Test with an array with multiple elements\n",
    "array = [5, 3, 2, 1, 4]\n",
    "max_value = find_max(array)\n",
    "print(max_value)\n"
   ]
  }
 ],
 "metadata": {
  "kernelspec": {
   "display_name": "Python 3",
   "language": "python",
   "name": "python3"
  },
  "language_info": {
   "codemirror_mode": {
    "name": "ipython",
    "version": 3
   },
   "file_extension": ".py",
   "mimetype": "text/x-python",
   "name": "python",
   "nbconvert_exporter": "python",
   "pygments_lexer": "ipython3",
   "version": "3.11.4"
  }
 },
 "nbformat": 4,
 "nbformat_minor": 2
}
